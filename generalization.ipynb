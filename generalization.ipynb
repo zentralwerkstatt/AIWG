{
 "cells": [
  {
   "cell_type": "markdown",
   "metadata": {},
   "source": [
    "# The Limits of Machine Learning"
   ]
  },
  {
   "cell_type": "markdown",
   "metadata": {},
   "source": [
    "## Background\n",
    "\n",
    "One core problem of contemporary machine learning techniques, as pointed out by [Marcus 2017], [Lake et. al. 2017], and many others, is a lack of symbolic reasoning skills in purely statistically trained (\"deep learning\" type) models like convolutional neural networks. While [Lake et. al. 2017] propose many possible technological fixes for this problem (for instance, the integration of a game-engine style physics model into a network), we could ask with [Agre 1995] if these fixes do not simply defer an inherently philosophical problem: the problem that, despite neural networks being general function approximators, intelligent generalization can not be modeled with general function approximation. As [Marcus 2017] writes: \n",
    "\n",
    "> The real problem lies in misunderstanding what deep learning is, and is not, good for. The technique excels at solving closed-end classification problems, in which a wide range of potential signals must be mapped onto a limited number of categories, given that there is enough data available and the test set closely resembles the training set.\n",
    "But deviations from these assumptions can cause problems; deep learning is just a statistical technique, and all statistical techniques suffer from deviation from their assumptions.\n",
    "\n",
    "In other words, \"true\" generalization would be closer to Cartesian compositionality then to a very large mapping betwen domains. Again [Marcus 2017]:\n",
    "\n",
    "> [S]ome problems cannot, given real- world limitations, be thought of as classification problems at all. Open-ended natural language understanding, for example, should not be thought of as a classifier mapping between a large finite set of sentences and large, finite set of sentences, but rather a mapping between a potentially infinite range of input sentences and an equally vast array of meanings, many never previously encountered. In a problem like that, deep learning becomes a square peg slammed into a round hole, a crude approximation when there must be a solution elsewhere.\n",
    "\n",
    "As an illustration of his argument, [Marcus 2017] proposes a toy example: generalizing from even to odd numbers:\n",
    "\n",
    "> Distilling the broad-ranging problems of language down to a simple example that I believe still has resonance now, I ran a series of experiments in which I trained three- layer perceptrons (fully connected in today’s technical parlance, with no convolution) on the identity function, $f(x) = x$, e.g, $f(12)=12$.\n",
    "\n",
    "The technical setup for the experiment is simple:\n",
    "\n",
    "> 1997-vintage networks were, to be sure, simpler than current models — they used no more than three layers (inputs nodes connected to hidden nodes connected to outputs node), and lacked Lecun’s powerful convolution technique. But they were driven by backpropagation just as today’s systems are, and just as beholden to their training data.\n",
    "\n",
    "The results are straightforward:\n",
    "\n",
    "> Every time I ran the experiment, using a wide variety of parameters, the results were the same: the network would (unless it got stuck in local minimum) correctly apply the identity function to the even numbers that it had seen before (say 2, 4, 8 and 12), and to some other even numbers (say 6 and 14) but fail on all the odds numbers, yielding, for example f(15) = 14. [...] Odd numbers were outside the training space, and the networks could not generalize identity outside that space. Adding more hidden units didn’t help, and nor did adding more hidden layers. Simple multilayer perceptrons simply couldn’t generalize outside their training space [...].\n",
    "\n",
    "In the following, we will reproduce the experiment described in [Marcus:2017]. The intention behind this is not so much the validation of their results but an excercise in critical technical practice ([Agre 1997]), in translating between philosophical and technical contexts. Additionally, given the availability of tools compared to 1997, we can implement some simple variations of the proposed experiment and potentially show that the results still hold. "
   ]
  },
  {
   "cell_type": "markdown",
   "metadata": {},
   "source": [
    "## Imports\n",
    "To be able to use mechanisms like differentiation and backpropagation we need a high-level library that abstracts these mathematical details away from us. We are using Keras, the de-facto standard for high-level prototyping for machine learning. Keras is a front-end to the Tensorflow framework, which is one of the ost widely used machine learning frameworks (for a comparison, see machine learning frameworks). Because we are operating in high-dimensional vectir space (and because Keras/Tensorflow use its datatypes), we are also using Numpy, the Python library for scientific computing. Finally, we are importing a single helper function from Scipy to split our data into train and test sets, and some helper functions to plot our activation functions."
   ]
  },
  {
   "cell_type": "code",
   "execution_count": 24,
   "metadata": {},
   "outputs": [],
   "source": [
    "import keras\n",
    "from keras.models import Sequential\n",
    "from keras.optimizers import SGD\n",
    "from keras import layers\n",
    "import numpy as np\n",
    "from sklearn.model_selection import train_test_split\n",
    "from scipy.special import expit as sigmoid\n",
    "import matplotlib.pyplot as plt"
   ]
  },
  {
   "cell_type": "markdown",
   "metadata": {},
   "source": [
    "## Settings\n",
    "\n",
    "These constants are the hyperparameters for our neural network. Exactly as proposed by [Marcus 2017], we are implementing the identity function $f(x) = x$ for binary integers. Our parameters are:\n",
    "\n",
    "- Our integers have `BITS` bits, so our network should learn to apply the identify function for $\\frac{2^{16}}{2}$ possible *even* integers.\n",
    "- After training we will test our network on `VAL` validation samples that are kept back.\n",
    "- Our hidden layers consist of `HIDDEN` units each.\n",
    "- We use `LAYERS` layers total.\n",
    "- We train the network for `EPOCHS` \"epochs\". One epoch is a complete \"run\" of all available training samples, i.e. a single forward and backward pass with all available samples.\n",
    "- We pass the samples to the network in batches of `BATCHES` each, this saves memory.\n",
    "- We do integrate some dropout layers to prevent overfitting (particularly important in this case).\n",
    "- Finally we \"mix in\" `MIX` odd numbers into our even numbers to find the threshold that enables the network to generalize for even and odd numbers."
   ]
  },
  {
   "cell_type": "code",
   "execution_count": 42,
   "metadata": {},
   "outputs": [],
   "source": [
    "BITS = 16\n",
    "VAL = 25\n",
    "HIDDEN = 128\n",
    "LAYERS = 3\n",
    "EPOCHS = 100\n",
    "BATCHES = 128\n",
    "DROPOUT = False\n",
    "MIX = 0"
   ]
  },
  {
   "cell_type": "markdown",
   "metadata": {},
   "source": [
    "## Function to approximate\n",
    "\n",
    "We define the most simple function possible, the identity function $f(x) = x$. To allow some additional experiments, we also define the bitwise-not function, $f(x)=\\sim{x}$. Note that the numpy implementation of bitwise not returns an array of truth values. To convert this into an array of 0s and 1s, we simply multiply it by 1."
   ]
  },
  {
   "cell_type": "code",
   "execution_count": 43,
   "metadata": {},
   "outputs": [],
   "source": [
    "def f(x):\n",
    "    \n",
    "    # Identity\n",
    "    return x\n",
    "    \n",
    "    # Bitwise not\n",
    "    # return  np.logical_not(x) * 1"
   ]
  },
  {
   "cell_type": "markdown",
   "metadata": {},
   "source": [
    "## Creating the training data\n",
    "\n",
    "Our training data is simple: a set of binary values, encoded as `BITS` dimensional vectors (e.g. `[0, 0, 1, 1, 1]`), provides both the input and desired output of our network. To produce this set, we create two two-dimensional arrays (`x_even` and `x_odd`) that will hold the even and odd numbers, respectively. We then fill the arrays from the bottom up, by iterating over the range of all $2^{\\text{BITS}}$ possible numbers with a step width of 2. In each step, we write the current number to the array that holds the even numbers, and the current number minus one to the array that holds the odd numbers. We randomly shuffle both arrays, and reserve a part for testing, and another (smaller) part for validation. Finally, we apply the function defined above to a copy of the array of even numbers, and use this as the target."
   ]
  },
  {
   "cell_type": "code",
   "execution_count": 44,
   "metadata": {},
   "outputs": [
    {
     "name": "stdout",
     "output_type": "stream",
     "text": [
      "16 bit numbers = 65536 possible values.\n",
      "Train set: 29468 even binary vectors (0 odd mixed into total set).\n",
      "Test set: 3275 even binary vectors (0 odd mixed into total set).\n",
      "Validation set: 25 even binary vectors and 25 odd binary vectors.\n"
     ]
    }
   ],
   "source": [
    "MAX = 2**BITS # BITS bits = 2^BITS values\n",
    "\n",
    "# Make space for all even BITS-bit numbers and all odd BITS-bit numbers\n",
    "x_even = np.zeros((int(MAX/2), BITS), dtype=int)\n",
    "x_odd = np.zeros((int(MAX/2), BITS), dtype=int)\n",
    "\n",
    "# Fill from the bottom, converting to binary on the fly\n",
    "for i in range(0, MAX, 2):\n",
    "    x_even[int(i/2),:] = np.array(list(np.binary_repr(i, BITS)))\n",
    "    x_odd[int(i/2),:] = np.array(list(np.binary_repr(i+1, BITS)))\n",
    "\n",
    "# Randomly shuffle everything    \n",
    "np.random.shuffle(x_even)\n",
    "np.random.shuffle(x_odd)\n",
    "\n",
    "x_val_even = x_even[-VAL:,:] # Save last VAL random even numbers for prediction \n",
    "x_even = x_even[:-VAL,:] # (use the rest for training and testing)\n",
    "x_val_odd = x_odd[-VAL:,:] # Save last VAL random odd numbers for prediction (throw the rest away)\n",
    "\n",
    "x_even[:MIX,:] = x_odd[:MIX,:]\n",
    "# Randomly shuffle again   \n",
    "np.random.shuffle(x_even)\n",
    "\n",
    "# Apply function we would like to model\n",
    "y = f(x_even)\n",
    "\n",
    "# http://scikit-learn.org/stable/modules/generated/sklearn.model_selection.train_test_split.html\n",
    "x_train, x_test, y_train, y_test = train_test_split(x_even, y, test_size=0.1, random_state=42)\n",
    "\n",
    "print(str(BITS) + ' bit numbers = ' + str(MAX) + ' possible values.')\n",
    "print(\"Train set: \" + str(len(x_train)) + ' even binary vectors (' + str(MIX) + ' odd mixed into total set).')\n",
    "print(\"Test set: \" + str(len(x_test)) + ' even binary vectors (' + str(MIX) + ' odd mixed into total set).')\n",
    "print(\"Validation set: \" + str(len(x_val_even)) + ' even binary vectors and ' + str(len(x_val_odd)) + ' odd binary vectors.')"
   ]
  },
  {
   "cell_type": "markdown",
   "metadata": {},
   "source": [
    "## Building the model\n",
    "\n",
    "Keras conveniently provides us with abstractions for many of the most commonly used building blocks of neural networks. For this experiment, we are using six different components: fully connected layers, ReLu activation, a sigmoid activation, a binary cross-entropy loss function, and backporpagation by means of stochastic gradient descent."
   ]
  },
  {
   "cell_type": "markdown",
   "metadata": {},
   "source": [
    "### Fully connected layer\n",
    "\n",
    "This is the standard, multilayer perceptron layer, where every unit of a layer is connected to every unit of the layer before and after. "
   ]
  },
  {
   "cell_type": "markdown",
   "metadata": {},
   "source": [
    "### ReLu activation function\n",
    "\n",
    "[Rectified linear units](https://en.wikipedia.org/wiki/Rectifier_(neural_networks) are the most popular neural network units at the time of writing. Despite their \"linear look\", the [activation function](https://en.wikipedia.org/wiki/Activation_function) used: \n",
    "\n",
    "$$f(x)=\\max(0,x)$$\n",
    "\n",
    "is actually nonlinear ([piecewise-linear](https://en.wikipedia.org/wiki/Piecewise_linear_function), to be precise) *and* differentiable. Why nonlinear? Well, a linear function has to satisfy the condition \n",
    "\n",
    "$$\\forall_{x,y}: f(x) + f(y) = f(x+y)$$\n",
    "\n",
    "For ReLu, \n",
    "\n",
    "$$f(-1) = -1$$\n",
    "$$f(1) = 1$$\n",
    "$$f(0) = 0$$ \n",
    "\n",
    "Its derivative is then simply \n",
    "\n",
    "$$f'(x)={\\begin{cases}0&{\\text{for }}x<0\\\\1&{\\text{for }}x\\geq 0\\end{cases}}$$\n",
    "\n",
    "Interestingly, the \"almost-linearity\" of ReLus does not impede their universality in approximating functions (see [these examples](https://www.quora.com/Is-a-single-layered-ReLu-network-still-a-universal-approximator/answer/Conner-Davis-2))."
   ]
  },
  {
   "cell_type": "code",
   "execution_count": 45,
   "metadata": {},
   "outputs": [
    {
     "data": {
      "image/png": "[encoded data removed]",
      "text/plain": [
       "<matplotlib.figure.Figure at 0x7f75702f3048>"
      ]
     },
     "metadata": {},
     "output_type": "display_data"
    }
   ],
   "source": [
    "plt.plot([max(0, x) for x in np.arange(-10.0,10.0,0.1)])\n",
    "plt.show()"
   ]
  },
  {
   "cell_type": "markdown",
   "metadata": {},
   "source": [
    "### Sigmoid activation function\n",
    "\n",
    "The [sigmoid function](https://en.wikipedia.org/wiki/Logistic_function), also called logistic function, looks roughly like the simple step function but has non-zero gradients everywhere, which makes it fully differentiable. It is defined as\n",
    "\n",
    "$$f(x)={\\frac {1}{1+e^{-x}}}$$\n",
    "\n",
    "with the derivative\n",
    "\n",
    "$$f'(x)=f(x)(1-f(x))$$"
   ]
  },
  {
   "cell_type": "code",
   "execution_count": 46,
   "metadata": {},
   "outputs": [
    {
     "data": {
      "image/png": "[encoded data removed]",
      "text/plain": [
       "<matplotlib.figure.Figure at 0x7f75790bda20>"
      ]
     },
     "metadata": {},
     "output_type": "display_data"
    }
   ],
   "source": [
    "plt.plot([sigmoid(x) for x in np.arange(-10.0,10.0,0.1)])\n",
    "plt.show()"
   ]
  },
  {
   "cell_type": "markdown",
   "metadata": {},
   "source": [
    "### Binary cross-entopy loss function\n",
    "\n",
    "Because our input and output are binary numbers, we are dealing with a [multi-label classification]( https://en.wikipedia.org/wiki/Multi-label_classification) problem. The loss function best suited to address this scenario is binary [cross-entropy](https://en.wikipedia.org/wiki/Cross_entropy). In mathematical terms, minimizing this function equals minimizing the [Kullback–Leibler divergence](https://en.wikipedia.org/wiki/Kullback%E2%80%93Leibler_divergence), here the divergence of the probability distribution inherent in the training set and the probability distribution created by the model."
   ]
  },
  {
   "cell_type": "markdown",
   "metadata": {},
   "source": [
    "### Backpropagation via stochastic gradient descent\n",
    "\n",
    "First, a quick derivative reminder:\n",
    "\n",
    "$$\\frac{df}{dx} = \\lim_{x \\to +\\infty} \\frac{f(x+h)-f(x)}{h}$$\n",
    "\n",
    "[Gradient descent](https://en.wikipedia.org/wiki/Gradient_descent) is based on the observation that if the multi-variable function $f(x)$ is defined and differentiable in a neighborhood of a point $a$, then $f(x)$ decreases fastest if one goes from $a$ in the direction of the negative gradient of $f$ at $a$, $f(a) -\\nabla f(a)$. The algorithm for a system with the loss function $Loss$ would then be\n",
    "\n",
    "$$w_n \\leftarrow w_n - \\underbrace{\\eta}_\\text{step size} \\nabla_{w_{n}} Loss(w_n)$$\n",
    "\n",
    "for every training sample, where $\\nabla_{w_{n}}$ ([Del](https://en.wikipedia.org/wiki/Del)) denotes the partial derivative w. r. t. the weight $w_n$, which can usually be derived by means of the [chain rule](https://en.wikipedia.org/wiki/Chain_rule): \n",
    "\n",
    "$$(f\\circ g)'=(f'\\circ g)\\cdot g'$$\n",
    "\n",
    "[Stochastic gradient descent](https://en.wikipedia.org/wiki/Stochastic_gradient_descent) adds an additional element to the process to increase throughput: batch size. Instead of supplying one training sample per iteration (where iteration defines one forward and backward pass), multiple (random) samples are concatenated and the network is trained on these concatenated \"mini-batches\". Essentially, we are trading dimensionality for speed which is intuitively a good choice if we use GPUs for training.\n",
    "\n",
    "Example: $f(x)=x^4−3x^3+2$, with derivative $f'(x)=4x3−9x^2$"
   ]
  },
  {
   "cell_type": "code",
   "execution_count": 47,
   "metadata": {},
   "outputs": [
    {
     "name": "stdout",
     "output_type": "stream",
     "text": [
      "The local minimum occurs at 2.2499646074278457\n"
     ]
    }
   ],
   "source": [
    "# From calculation, it is expected that the local minimum occurs at x=9/4\n",
    "\n",
    "x = 6 # The algorithm starts at x=6\n",
    "eta = 0.01 # Step size multiplier\n",
    "precision = 0.00001\n",
    "previous_step_size = 1/precision # Some large value\n",
    "\n",
    "df = lambda x: 4 * x**3 - 9 * x**2\n",
    "\n",
    "while previous_step_size > precision:\n",
    "    prev_x = x\n",
    "    x += -eta * df(prev_x)\n",
    "    previous_step_size = abs(x - prev_x)\n",
    "\n",
    "print(\"The local minimum occurs at \" + str(x))"
   ]
  },
  {
   "cell_type": "code",
   "execution_count": 48,
   "metadata": {},
   "outputs": [
    {
     "name": "stdout",
     "output_type": "stream",
     "text": [
      "_________________________________________________________________\n",
      "Layer (type)                 Output Shape              Param #   \n",
      "=================================================================\n",
      "dense_17 (Dense)             (None, 128)               2176      \n",
      "_________________________________________________________________\n",
      "dense_18 (Dense)             (None, 128)               16512     \n",
      "_________________________________________________________________\n",
      "dense_19 (Dense)             (None, 128)               16512     \n",
      "_________________________________________________________________\n",
      "dense_20 (Dense)             (None, 16)                2064      \n",
      "=================================================================\n",
      "Total params: 37,264\n",
      "Trainable params: 37,264\n",
      "Non-trainable params: 0\n",
      "_________________________________________________________________\n"
     ]
    }
   ],
   "source": [
    "model = Sequential()\n",
    "# Dense(HIDDEN) is a fully-connected layer with HIDDEN hidden units.\n",
    "# In the first layer, you must specify the expected input data shape, here BITS-dimensional vectors.\n",
    "model.add(layers.Dense(HIDDEN, activation='relu', input_dim=BITS))\n",
    "for _ in range(LAYERS-1):\n",
    "    model.add(layers.Dense(HIDDEN, activation='relu'))\n",
    "    if (DROPOUT): model.add(layers.Dropout(0.5))\n",
    "# Sigmoid activation for multilabel classification\n",
    "# https://github.com/keras-team/keras/issues/741\n",
    "# https://en.wikipedia.org/wiki/Multi-label_classification\n",
    "model.add(layers.Dense(BITS, activation='sigmoid'))\n",
    "sgd = SGD(lr=0.01, decay=1e-6, momentum=0.9, nesterov=True)\n",
    "# Binary crossentropy for multilabel classification\n",
    "# https://github.com/keras-team/keras/issues/741\n",
    "# https://en.wikipedia.org/wiki/Multi-label_classification\n",
    "model.compile(loss='binary_crossentropy', optimizer=sgd, metrics=['accuracy'])\n",
    "model.summary()"
   ]
  },
  {
   "cell_type": "markdown",
   "metadata": {},
   "source": [
    "## Training the model"
   ]
  },
  {
   "cell_type": "code",
   "execution_count": 49,
   "metadata": {},
   "outputs": [
    {
     "name": "stdout",
     "output_type": "stream",
     "text": [
      "Epoch 1/100\n",
      "29468/29468 [==============================] - 1s 17us/step - loss: 0.6400 - acc: 0.6730\n",
      "Epoch 2/100\n",
      "29468/29468 [==============================] - 0s 14us/step - loss: 0.5009 - acc: 0.8781\n",
      "Epoch 3/100\n",
      "29468/29468 [==============================] - 0s 12us/step - loss: 0.2921 - acc: 0.9504\n",
      "Epoch 4/100\n",
      "29468/29468 [==============================] - 0s 11us/step - loss: 0.1247 - acc: 0.9933\n",
      "Epoch 5/100\n",
      "29468/29468 [==============================] - 0s 11us/step - loss: 0.0493 - acc: 0.9998\n",
      "Epoch 6/100\n",
      "29468/29468 [==============================] - 0s 11us/step - loss: 0.0248 - acc: 1.0000\n",
      "Epoch 7/100\n",
      "29468/29468 [==============================] - 0s 11us/step - loss: 0.0156 - acc: 1.0000\n",
      "Epoch 8/100\n",
      "29468/29468 [==============================] - 0s 11us/step - loss: 0.0111 - acc: 1.0000\n",
      "Epoch 9/100\n",
      "29468/29468 [==============================] - 0s 13us/step - loss: 0.0084 - acc: 1.0000\n",
      "Epoch 10/100\n",
      "29468/29468 [==============================] - 0s 11us/step - loss: 0.0067 - acc: 1.0000\n",
      "Epoch 11/100\n",
      "29468/29468 [==============================] - 0s 11us/step - loss: 0.0055 - acc: 1.0000\n",
      "Epoch 12/100\n",
      "29468/29468 [==============================] - 0s 12us/step - loss: 0.0047 - acc: 1.0000\n",
      "Epoch 13/100\n",
      "29468/29468 [==============================] - 0s 13us/step - loss: 0.0040 - acc: 1.0000\n",
      "Epoch 14/100\n",
      "29468/29468 [==============================] - 0s 11us/step - loss: 0.0035 - acc: 1.0000\n",
      "Epoch 15/100\n",
      "29468/29468 [==============================] - 0s 11us/step - loss: 0.0031 - acc: 1.0000\n",
      "Epoch 16/100\n",
      "29468/29468 [==============================] - 0s 11us/step - loss: 0.0027 - acc: 1.0000\n",
      "Epoch 17/100\n",
      "29468/29468 [==============================] - 0s 11us/step - loss: 0.0024 - acc: 1.0000\n",
      "Epoch 18/100\n",
      "29468/29468 [==============================] - 0s 11us/step - loss: 0.0022 - acc: 1.0000\n",
      "Epoch 19/100\n",
      "29468/29468 [==============================] - 0s 11us/step - loss: 0.0020 - acc: 1.0000\n",
      "Epoch 20/100\n",
      "29468/29468 [==============================] - 0s 11us/step - loss: 0.0018 - acc: 1.0000\n",
      "Epoch 21/100\n",
      "29468/29468 [==============================] - 0s 11us/step - loss: 0.0017 - acc: 1.0000\n",
      "Epoch 22/100\n",
      "29468/29468 [==============================] - 0s 11us/step - loss: 0.0016 - acc: 1.0000\n",
      "Epoch 23/100\n",
      "29468/29468 [==============================] - 0s 11us/step - loss: 0.0014 - acc: 1.0000\n",
      "Epoch 24/100\n",
      "29468/29468 [==============================] - 0s 11us/step - loss: 0.0013 - acc: 1.0000\n",
      "Epoch 25/100\n",
      "29468/29468 [==============================] - 0s 11us/step - loss: 0.0013 - acc: 1.0000\n",
      "Epoch 26/100\n",
      "29468/29468 [==============================] - 0s 11us/step - loss: 0.0012 - acc: 1.0000\n",
      "Epoch 27/100\n",
      "29468/29468 [==============================] - 0s 11us/step - loss: 0.0011 - acc: 1.0000\n",
      "Epoch 28/100\n",
      "29468/29468 [==============================] - 0s 11us/step - loss: 0.0010 - acc: 1.0000\n",
      "Epoch 29/100\n",
      "29468/29468 [==============================] - 0s 11us/step - loss: 9.7507e-04 - acc: 1.0000\n",
      "Epoch 30/100\n",
      "29468/29468 [==============================] - 0s 11us/step - loss: 9.2127e-04 - acc: 1.0000\n",
      "Epoch 31/100\n",
      "29468/29468 [==============================] - 0s 11us/step - loss: 8.7203e-04 - acc: 1.0000\n",
      "Epoch 32/100\n",
      "29468/29468 [==============================] - 0s 11us/step - loss: 8.2719e-04 - acc: 1.0000\n",
      "Epoch 33/100\n",
      "29468/29468 [==============================] - 0s 11us/step - loss: 7.8599e-04 - acc: 1.0000\n",
      "Epoch 34/100\n",
      "29468/29468 [==============================] - 0s 11us/step - loss: 7.4807e-04 - acc: 1.0000\n",
      "Epoch 35/100\n",
      "29468/29468 [==============================] - 0s 11us/step - loss: 7.1307e-04 - acc: 1.0000\n",
      "Epoch 36/100\n",
      "29468/29468 [==============================] - 0s 11us/step - loss: 6.8072e-04 - acc: 1.0000\n",
      "Epoch 37/100\n",
      "29468/29468 [==============================] - 0s 11us/step - loss: 6.5072e-04 - acc: 1.0000\n",
      "Epoch 38/100\n",
      "29468/29468 [==============================] - 0s 11us/step - loss: 6.2291e-04 - acc: 1.0000\n",
      "Epoch 39/100\n",
      "29468/29468 [==============================] - 0s 11us/step - loss: 5.9705e-04 - acc: 1.0000\n",
      "Epoch 40/100\n",
      "29468/29468 [==============================] - 0s 11us/step - loss: 5.7288e-04 - acc: 1.0000\n",
      "Epoch 41/100\n",
      "29468/29468 [==============================] - 0s 11us/step - loss: 5.5036e-04 - acc: 1.0000\n",
      "Epoch 42/100\n",
      "29468/29468 [==============================] - 0s 11us/step - loss: 5.2905e-04 - acc: 1.0000\n",
      "Epoch 43/100\n",
      "29468/29468 [==============================] - 0s 11us/step - loss: 5.0948e-04 - acc: 1.0000\n",
      "Epoch 44/100\n",
      "29468/29468 [==============================] - 0s 11us/step - loss: 4.9084e-04 - acc: 1.0000\n",
      "Epoch 45/100\n",
      "29468/29468 [==============================] - 0s 11us/step - loss: 4.7340e-04 - acc: 1.0000\n",
      "Epoch 46/100\n",
      "29468/29468 [==============================] - 0s 11us/step - loss: 4.5695e-04 - acc: 1.0000\n",
      "Epoch 47/100\n",
      "29468/29468 [==============================] - 0s 11us/step - loss: 4.4145e-04 - acc: 1.0000\n",
      "Epoch 48/100\n",
      "29468/29468 [==============================] - 0s 11us/step - loss: 4.2680e-04 - acc: 1.0000\n",
      "Epoch 49/100\n",
      "29468/29468 [==============================] - 0s 13us/step - loss: 4.1301e-04 - acc: 1.0000\n",
      "Epoch 50/100\n",
      "29468/29468 [==============================] - 0s 11us/step - loss: 3.9988e-04 - acc: 1.0000\n",
      "Epoch 51/100\n",
      "29468/29468 [==============================] - 0s 11us/step - loss: 3.8750e-04 - acc: 1.0000\n",
      "Epoch 52/100\n",
      "29468/29468 [==============================] - 0s 11us/step - loss: 3.7573e-04 - acc: 1.0000\n",
      "Epoch 53/100\n",
      "29468/29468 [==============================] - 0s 11us/step - loss: 3.6458e-04 - acc: 1.0000\n",
      "Epoch 54/100\n",
      "29468/29468 [==============================] - 0s 11us/step - loss: 3.5399e-04 - acc: 1.0000\n",
      "Epoch 55/100\n",
      "29468/29468 [==============================] - 0s 14us/step - loss: 3.4387e-04 - acc: 1.0000\n",
      "Epoch 56/100\n",
      "29468/29468 [==============================] - 0s 12us/step - loss: 3.3426e-04 - acc: 1.0000\n",
      "Epoch 57/100\n",
      "29468/29468 [==============================] - 0s 12us/step - loss: 3.2509e-04 - acc: 1.0000\n",
      "Epoch 58/100\n",
      "29468/29468 [==============================] - 0s 12us/step - loss: 3.1636e-04 - acc: 1.0000\n",
      "Epoch 59/100\n",
      "29468/29468 [==============================] - 0s 12us/step - loss: 3.0801e-04 - acc: 1.0000\n",
      "Epoch 60/100\n",
      "29468/29468 [==============================] - 0s 12us/step - loss: 3.0004e-04 - acc: 1.0000\n",
      "Epoch 61/100\n",
      "29468/29468 [==============================] - 0s 12us/step - loss: 2.9241e-04 - acc: 1.0000\n",
      "Epoch 62/100\n",
      "29468/29468 [==============================] - 0s 12us/step - loss: 2.8511e-04 - acc: 1.0000\n",
      "Epoch 63/100\n",
      "29468/29468 [==============================] - 0s 13us/step - loss: 2.7810e-04 - acc: 1.0000\n",
      "Epoch 64/100\n",
      "29468/29468 [==============================] - 0s 13us/step - loss: 2.7141e-04 - acc: 1.0000\n",
      "Epoch 65/100\n",
      "29468/29468 [==============================] - 0s 15us/step - loss: 2.6499e-04 - acc: 1.0000\n",
      "Epoch 66/100\n",
      "29468/29468 [==============================] - 0s 12us/step - loss: 2.5881e-04 - acc: 1.0000\n",
      "Epoch 67/100\n",
      "29468/29468 [==============================] - 0s 12us/step - loss: 2.5288e-04 - acc: 1.0000\n",
      "Epoch 68/100\n",
      "29468/29468 [==============================] - 0s 12us/step - loss: 2.4716e-04 - acc: 1.0000\n",
      "Epoch 69/100\n",
      "29468/29468 [==============================] - 0s 12us/step - loss: 2.4170e-04 - acc: 1.0000\n",
      "Epoch 70/100\n",
      "29468/29468 [==============================] - 0s 12us/step - loss: 2.3642e-04 - acc: 1.0000\n",
      "Epoch 71/100\n",
      "29468/29468 [==============================] - 0s 12us/step - loss: 2.3135e-04 - acc: 1.0000\n",
      "Epoch 72/100\n",
      "29468/29468 [==============================] - 0s 12us/step - loss: 2.2647e-04 - acc: 1.0000\n",
      "Epoch 73/100\n",
      "29468/29468 [==============================] - 0s 12us/step - loss: 2.2177e-04 - acc: 1.0000\n",
      "Epoch 74/100\n",
      "29468/29468 [==============================] - 0s 12us/step - loss: 2.1722e-04 - acc: 1.0000\n",
      "Epoch 75/100\n",
      "29468/29468 [==============================] - 0s 12us/step - loss: 2.1283e-04 - acc: 1.0000\n",
      "Epoch 76/100\n",
      "29468/29468 [==============================] - 0s 12us/step - loss: 2.0860e-04 - acc: 1.0000\n",
      "Epoch 77/100\n",
      "29468/29468 [==============================] - 0s 12us/step - loss: 2.0451e-04 - acc: 1.0000\n",
      "Epoch 78/100\n",
      "29468/29468 [==============================] - 0s 12us/step - loss: 2.0057e-04 - acc: 1.0000\n",
      "Epoch 79/100\n"
     ]
    },
    {
     "name": "stdout",
     "output_type": "stream",
     "text": [
      "29468/29468 [==============================] - 0s 12us/step - loss: 1.9676e-04 - acc: 1.0000\n",
      "Epoch 80/100\n",
      "29468/29468 [==============================] - 0s 12us/step - loss: 1.9307e-04 - acc: 1.0000\n",
      "Epoch 81/100\n",
      "29468/29468 [==============================] - 0s 12us/step - loss: 1.8951e-04 - acc: 1.0000\n",
      "Epoch 82/100\n",
      "29468/29468 [==============================] - 0s 14us/step - loss: 1.8604e-04 - acc: 1.0000\n",
      "Epoch 83/100\n",
      "29468/29468 [==============================] - 0s 13us/step - loss: 1.8271e-04 - acc: 1.0000\n",
      "Epoch 84/100\n",
      "29468/29468 [==============================] - 0s 12us/step - loss: 1.7946e-04 - acc: 1.0000\n",
      "Epoch 85/100\n",
      "29468/29468 [==============================] - 0s 12us/step - loss: 1.7632e-04 - acc: 1.0000\n",
      "Epoch 86/100\n",
      "29468/29468 [==============================] - 0s 12us/step - loss: 1.7326e-04 - acc: 1.0000\n",
      "Epoch 87/100\n",
      "29468/29468 [==============================] - 0s 12us/step - loss: 1.7030e-04 - acc: 1.0000\n",
      "Epoch 88/100\n",
      "29468/29468 [==============================] - 0s 14us/step - loss: 1.6744e-04 - acc: 1.0000\n",
      "Epoch 89/100\n",
      "29468/29468 [==============================] - 0s 14us/step - loss: 1.6466e-04 - acc: 1.0000\n",
      "Epoch 90/100\n",
      "29468/29468 [==============================] - 0s 12us/step - loss: 1.6196e-04 - acc: 1.0000\n",
      "Epoch 91/100\n",
      "29468/29468 [==============================] - 0s 12us/step - loss: 1.5933e-04 - acc: 1.0000\n",
      "Epoch 92/100\n",
      "29468/29468 [==============================] - 0s 12us/step - loss: 1.5679e-04 - acc: 1.0000\n",
      "Epoch 93/100\n",
      "29468/29468 [==============================] - 0s 12us/step - loss: 1.5431e-04 - acc: 1.0000\n",
      "Epoch 94/100\n",
      "29468/29468 [==============================] - 0s 12us/step - loss: 1.5190e-04 - acc: 1.0000\n",
      "Epoch 95/100\n",
      "29468/29468 [==============================] - 0s 13us/step - loss: 1.4955e-04 - acc: 1.0000\n",
      "Epoch 96/100\n",
      "29468/29468 [==============================] - 0s 14us/step - loss: 1.4728e-04 - acc: 1.0000\n",
      "Epoch 97/100\n",
      "29468/29468 [==============================] - 0s 12us/step - loss: 1.4505e-04 - acc: 1.0000\n",
      "Epoch 98/100\n",
      "29468/29468 [==============================] - 0s 12us/step - loss: 1.4289e-04 - acc: 1.0000\n",
      "Epoch 99/100\n",
      "29468/29468 [==============================] - 0s 12us/step - loss: 1.4079e-04 - acc: 1.0000\n",
      "Epoch 100/100\n",
      "29468/29468 [==============================] - 0s 12us/step - loss: 1.3874e-04 - acc: 1.0000\n",
      "3275/3275 [==============================] - 0s 18us/step\n"
     ]
    }
   ],
   "source": [
    "model.fit(x_train, y_train, epochs=EPOCHS, batch_size=BATCHES)\n",
    "score = model.evaluate(x_test, y_test, batch_size=128)"
   ]
  },
  {
   "cell_type": "markdown",
   "metadata": {},
   "source": [
    "## Evaluating the model\n",
    "\n",
    "We are now using the samples that we kept back to evaulate how well our model has learned to approximate the identity function. First, we define some \"pretty printing\" options, then we let our model make predictions and compare the evaluation samples with the outputs of the prediction, digit by digit."
   ]
  },
  {
   "cell_type": "code",
   "execution_count": 50,
   "metadata": {},
   "outputs": [
    {
     "name": "stdout",
     "output_type": "stream",
     "text": [
      "EVEN\n",
      "\n",
      "\u001b[92m1\u001b[0m \u001b[92m1\u001b[0m \u001b[92m1\u001b[0m \u001b[92m1\u001b[0m \u001b[92m0\u001b[0m \u001b[92m0\u001b[0m \u001b[92m0\u001b[0m \u001b[92m0\u001b[0m \u001b[92m0\u001b[0m \u001b[92m0\u001b[0m \u001b[92m0\u001b[0m \u001b[92m0\u001b[0m \u001b[92m1\u001b[0m \u001b[92m1\u001b[0m \u001b[92m0\u001b[0m \u001b[92m0\u001b[0m 61452\n",
      "\u001b[92m1\u001b[0m \u001b[92m0\u001b[0m \u001b[92m1\u001b[0m \u001b[92m0\u001b[0m \u001b[92m1\u001b[0m \u001b[92m1\u001b[0m \u001b[92m1\u001b[0m \u001b[92m1\u001b[0m \u001b[92m1\u001b[0m \u001b[92m0\u001b[0m \u001b[92m1\u001b[0m \u001b[92m0\u001b[0m \u001b[92m1\u001b[0m \u001b[92m1\u001b[0m \u001b[92m0\u001b[0m \u001b[92m0\u001b[0m 44972\n",
      "\u001b[92m1\u001b[0m \u001b[92m0\u001b[0m \u001b[92m1\u001b[0m \u001b[92m0\u001b[0m \u001b[92m0\u001b[0m \u001b[92m0\u001b[0m \u001b[92m0\u001b[0m \u001b[92m0\u001b[0m \u001b[92m0\u001b[0m \u001b[92m1\u001b[0m \u001b[92m1\u001b[0m \u001b[92m0\u001b[0m \u001b[92m0\u001b[0m \u001b[92m1\u001b[0m \u001b[92m1\u001b[0m \u001b[92m0\u001b[0m 41062\n",
      "\u001b[92m1\u001b[0m \u001b[92m0\u001b[0m \u001b[92m1\u001b[0m \u001b[92m0\u001b[0m \u001b[92m1\u001b[0m \u001b[92m0\u001b[0m \u001b[92m0\u001b[0m \u001b[92m0\u001b[0m \u001b[92m1\u001b[0m \u001b[92m0\u001b[0m \u001b[92m0\u001b[0m \u001b[92m1\u001b[0m \u001b[92m1\u001b[0m \u001b[92m0\u001b[0m \u001b[92m0\u001b[0m \u001b[92m0\u001b[0m 43160\n",
      "\u001b[92m0\u001b[0m \u001b[92m0\u001b[0m \u001b[92m0\u001b[0m \u001b[92m1\u001b[0m \u001b[92m1\u001b[0m \u001b[92m1\u001b[0m \u001b[92m1\u001b[0m \u001b[92m0\u001b[0m \u001b[92m1\u001b[0m \u001b[92m1\u001b[0m \u001b[92m0\u001b[0m \u001b[92m1\u001b[0m \u001b[92m0\u001b[0m \u001b[92m0\u001b[0m \u001b[92m0\u001b[0m \u001b[92m0\u001b[0m 7888\n",
      "\u001b[92m1\u001b[0m \u001b[92m1\u001b[0m \u001b[92m1\u001b[0m \u001b[92m0\u001b[0m \u001b[92m1\u001b[0m \u001b[92m0\u001b[0m \u001b[92m1\u001b[0m \u001b[92m1\u001b[0m \u001b[92m0\u001b[0m \u001b[92m0\u001b[0m \u001b[92m0\u001b[0m \u001b[92m1\u001b[0m \u001b[92m0\u001b[0m \u001b[92m0\u001b[0m \u001b[92m1\u001b[0m \u001b[92m0\u001b[0m 60178\n",
      "\u001b[92m0\u001b[0m \u001b[92m0\u001b[0m \u001b[92m1\u001b[0m \u001b[92m0\u001b[0m \u001b[92m0\u001b[0m \u001b[92m0\u001b[0m \u001b[92m1\u001b[0m \u001b[92m0\u001b[0m \u001b[92m0\u001b[0m \u001b[92m1\u001b[0m \u001b[92m0\u001b[0m \u001b[92m0\u001b[0m \u001b[92m1\u001b[0m \u001b[92m0\u001b[0m \u001b[92m1\u001b[0m \u001b[92m0\u001b[0m 8778\n",
      "\u001b[92m1\u001b[0m \u001b[92m0\u001b[0m \u001b[92m0\u001b[0m \u001b[92m0\u001b[0m \u001b[92m1\u001b[0m \u001b[92m0\u001b[0m \u001b[92m0\u001b[0m \u001b[92m1\u001b[0m \u001b[92m1\u001b[0m \u001b[92m0\u001b[0m \u001b[92m0\u001b[0m \u001b[92m1\u001b[0m \u001b[92m0\u001b[0m \u001b[92m0\u001b[0m \u001b[92m0\u001b[0m \u001b[92m0\u001b[0m 35216\n",
      "\u001b[92m0\u001b[0m \u001b[92m0\u001b[0m \u001b[92m0\u001b[0m \u001b[92m1\u001b[0m \u001b[92m0\u001b[0m \u001b[92m1\u001b[0m \u001b[92m0\u001b[0m \u001b[92m1\u001b[0m \u001b[92m0\u001b[0m \u001b[92m0\u001b[0m \u001b[92m0\u001b[0m \u001b[92m0\u001b[0m \u001b[92m1\u001b[0m \u001b[92m1\u001b[0m \u001b[92m1\u001b[0m \u001b[92m0\u001b[0m 5390\n",
      "\u001b[92m1\u001b[0m \u001b[92m0\u001b[0m \u001b[92m1\u001b[0m \u001b[92m1\u001b[0m \u001b[92m0\u001b[0m \u001b[92m0\u001b[0m \u001b[92m0\u001b[0m \u001b[92m0\u001b[0m \u001b[92m1\u001b[0m \u001b[92m1\u001b[0m \u001b[92m1\u001b[0m \u001b[92m1\u001b[0m \u001b[92m0\u001b[0m \u001b[92m1\u001b[0m \u001b[92m0\u001b[0m \u001b[92m0\u001b[0m 45300\n",
      "\u001b[92m0\u001b[0m \u001b[92m1\u001b[0m \u001b[92m1\u001b[0m \u001b[92m0\u001b[0m \u001b[92m1\u001b[0m \u001b[92m1\u001b[0m \u001b[92m1\u001b[0m \u001b[92m0\u001b[0m \u001b[92m0\u001b[0m \u001b[92m1\u001b[0m \u001b[92m1\u001b[0m \u001b[92m0\u001b[0m \u001b[92m0\u001b[0m \u001b[92m0\u001b[0m \u001b[92m1\u001b[0m \u001b[92m0\u001b[0m 28258\n",
      "\u001b[92m0\u001b[0m \u001b[92m0\u001b[0m \u001b[92m1\u001b[0m \u001b[92m1\u001b[0m \u001b[92m1\u001b[0m \u001b[92m0\u001b[0m \u001b[92m1\u001b[0m \u001b[92m0\u001b[0m \u001b[92m1\u001b[0m \u001b[92m0\u001b[0m \u001b[92m1\u001b[0m \u001b[92m0\u001b[0m \u001b[92m1\u001b[0m \u001b[92m1\u001b[0m \u001b[92m0\u001b[0m \u001b[92m0\u001b[0m 15020\n",
      "\u001b[92m0\u001b[0m \u001b[92m1\u001b[0m \u001b[92m1\u001b[0m \u001b[92m1\u001b[0m \u001b[92m0\u001b[0m \u001b[92m0\u001b[0m \u001b[92m0\u001b[0m \u001b[92m0\u001b[0m \u001b[92m1\u001b[0m \u001b[92m0\u001b[0m \u001b[92m0\u001b[0m \u001b[92m1\u001b[0m \u001b[92m1\u001b[0m \u001b[92m0\u001b[0m \u001b[92m0\u001b[0m \u001b[92m0\u001b[0m 28824\n",
      "\u001b[92m0\u001b[0m \u001b[92m1\u001b[0m \u001b[92m0\u001b[0m \u001b[92m1\u001b[0m \u001b[92m1\u001b[0m \u001b[92m0\u001b[0m \u001b[92m1\u001b[0m \u001b[92m0\u001b[0m \u001b[92m0\u001b[0m \u001b[92m0\u001b[0m \u001b[92m0\u001b[0m \u001b[92m1\u001b[0m \u001b[92m1\u001b[0m \u001b[92m0\u001b[0m \u001b[92m1\u001b[0m \u001b[92m0\u001b[0m 23066\n",
      "\u001b[92m0\u001b[0m \u001b[92m0\u001b[0m \u001b[92m0\u001b[0m \u001b[92m0\u001b[0m \u001b[92m0\u001b[0m \u001b[92m0\u001b[0m \u001b[92m1\u001b[0m \u001b[92m0\u001b[0m \u001b[92m0\u001b[0m \u001b[92m1\u001b[0m \u001b[92m0\u001b[0m \u001b[92m0\u001b[0m \u001b[92m1\u001b[0m \u001b[92m1\u001b[0m \u001b[92m1\u001b[0m \u001b[92m0\u001b[0m 590\n",
      "\u001b[92m0\u001b[0m \u001b[92m0\u001b[0m \u001b[92m1\u001b[0m \u001b[92m0\u001b[0m \u001b[92m1\u001b[0m \u001b[92m1\u001b[0m \u001b[92m1\u001b[0m \u001b[92m0\u001b[0m \u001b[92m0\u001b[0m \u001b[92m0\u001b[0m \u001b[92m0\u001b[0m \u001b[92m0\u001b[0m \u001b[92m1\u001b[0m \u001b[92m0\u001b[0m \u001b[92m0\u001b[0m \u001b[92m0\u001b[0m 11784\n",
      "\u001b[92m0\u001b[0m \u001b[92m0\u001b[0m \u001b[92m0\u001b[0m \u001b[92m1\u001b[0m \u001b[92m1\u001b[0m \u001b[92m0\u001b[0m \u001b[92m1\u001b[0m \u001b[92m1\u001b[0m \u001b[92m1\u001b[0m \u001b[92m1\u001b[0m \u001b[92m0\u001b[0m \u001b[92m0\u001b[0m \u001b[92m0\u001b[0m \u001b[92m0\u001b[0m \u001b[92m0\u001b[0m \u001b[92m0\u001b[0m 7104\n",
      "\u001b[92m1\u001b[0m \u001b[92m0\u001b[0m \u001b[92m1\u001b[0m \u001b[92m0\u001b[0m \u001b[92m1\u001b[0m \u001b[92m0\u001b[0m \u001b[92m1\u001b[0m \u001b[92m0\u001b[0m \u001b[92m1\u001b[0m \u001b[92m0\u001b[0m \u001b[92m1\u001b[0m \u001b[92m1\u001b[0m \u001b[92m0\u001b[0m \u001b[92m1\u001b[0m \u001b[92m1\u001b[0m \u001b[92m0\u001b[0m 43702\n",
      "\u001b[92m1\u001b[0m \u001b[92m1\u001b[0m \u001b[92m1\u001b[0m \u001b[92m1\u001b[0m \u001b[92m0\u001b[0m \u001b[92m1\u001b[0m \u001b[92m1\u001b[0m \u001b[92m1\u001b[0m \u001b[92m0\u001b[0m \u001b[92m1\u001b[0m \u001b[92m0\u001b[0m \u001b[92m0\u001b[0m \u001b[92m1\u001b[0m \u001b[92m0\u001b[0m \u001b[92m0\u001b[0m \u001b[92m0\u001b[0m 63304\n",
      "\u001b[92m1\u001b[0m \u001b[92m0\u001b[0m \u001b[92m1\u001b[0m \u001b[92m1\u001b[0m \u001b[92m1\u001b[0m \u001b[92m1\u001b[0m \u001b[92m0\u001b[0m \u001b[92m0\u001b[0m \u001b[92m1\u001b[0m \u001b[92m1\u001b[0m \u001b[92m0\u001b[0m \u001b[92m1\u001b[0m \u001b[92m0\u001b[0m \u001b[92m0\u001b[0m \u001b[92m0\u001b[0m \u001b[92m0\u001b[0m 48336\n",
      "\u001b[92m0\u001b[0m \u001b[92m1\u001b[0m \u001b[92m0\u001b[0m \u001b[92m1\u001b[0m \u001b[92m1\u001b[0m \u001b[92m1\u001b[0m \u001b[92m1\u001b[0m \u001b[92m1\u001b[0m \u001b[92m1\u001b[0m \u001b[92m0\u001b[0m \u001b[92m0\u001b[0m \u001b[92m1\u001b[0m \u001b[92m0\u001b[0m \u001b[92m0\u001b[0m \u001b[92m1\u001b[0m \u001b[92m0\u001b[0m 24466\n",
      "\u001b[92m1\u001b[0m \u001b[92m1\u001b[0m \u001b[92m1\u001b[0m \u001b[92m0\u001b[0m \u001b[92m0\u001b[0m \u001b[92m1\u001b[0m \u001b[92m0\u001b[0m \u001b[92m1\u001b[0m \u001b[92m1\u001b[0m \u001b[92m0\u001b[0m \u001b[92m0\u001b[0m \u001b[92m1\u001b[0m \u001b[92m0\u001b[0m \u001b[92m0\u001b[0m \u001b[92m0\u001b[0m \u001b[92m0\u001b[0m 58768\n",
      "\u001b[92m1\u001b[0m \u001b[92m1\u001b[0m \u001b[92m0\u001b[0m \u001b[92m0\u001b[0m \u001b[92m1\u001b[0m \u001b[92m0\u001b[0m \u001b[92m1\u001b[0m \u001b[92m0\u001b[0m \u001b[92m0\u001b[0m \u001b[92m1\u001b[0m \u001b[92m0\u001b[0m \u001b[92m1\u001b[0m \u001b[92m0\u001b[0m \u001b[92m0\u001b[0m \u001b[92m1\u001b[0m \u001b[92m0\u001b[0m 51794\n",
      "\u001b[92m0\u001b[0m \u001b[92m0\u001b[0m \u001b[92m0\u001b[0m \u001b[92m1\u001b[0m \u001b[92m0\u001b[0m \u001b[92m0\u001b[0m \u001b[92m0\u001b[0m \u001b[92m0\u001b[0m \u001b[92m0\u001b[0m \u001b[92m1\u001b[0m \u001b[92m1\u001b[0m \u001b[92m0\u001b[0m \u001b[92m0\u001b[0m \u001b[92m1\u001b[0m \u001b[92m0\u001b[0m \u001b[92m0\u001b[0m 4196\n",
      "\u001b[92m1\u001b[0m \u001b[92m0\u001b[0m \u001b[92m0\u001b[0m \u001b[92m0\u001b[0m \u001b[92m0\u001b[0m \u001b[92m1\u001b[0m \u001b[92m1\u001b[0m \u001b[92m1\u001b[0m \u001b[92m1\u001b[0m \u001b[92m1\u001b[0m \u001b[92m0\u001b[0m \u001b[92m1\u001b[0m \u001b[92m1\u001b[0m \u001b[92m1\u001b[0m \u001b[92m1\u001b[0m \u001b[92m0\u001b[0m 34782\n",
      "\n",
      "ODD\n",
      "\n",
      "\u001b[92m1\u001b[0m \u001b[92m0\u001b[0m \u001b[92m0\u001b[0m \u001b[92m0\u001b[0m \u001b[92m1\u001b[0m \u001b[92m0\u001b[0m \u001b[92m0\u001b[0m \u001b[92m1\u001b[0m \u001b[92m0\u001b[0m \u001b[92m1\u001b[0m \u001b[92m0\u001b[0m \u001b[92m0\u001b[0m \u001b[92m0\u001b[0m \u001b[92m1\u001b[0m \u001b[92m0\u001b[0m \u001b[91m0\u001b[0m 35140\n",
      "\u001b[92m1\u001b[0m \u001b[92m0\u001b[0m \u001b[92m0\u001b[0m \u001b[92m0\u001b[0m \u001b[92m0\u001b[0m \u001b[92m1\u001b[0m \u001b[92m0\u001b[0m \u001b[92m0\u001b[0m \u001b[92m0\u001b[0m \u001b[92m1\u001b[0m \u001b[92m0\u001b[0m \u001b[92m0\u001b[0m \u001b[92m1\u001b[0m \u001b[92m0\u001b[0m \u001b[92m1\u001b[0m \u001b[91m0\u001b[0m 33866\n",
      "\u001b[92m1\u001b[0m \u001b[92m1\u001b[0m \u001b[92m1\u001b[0m \u001b[92m1\u001b[0m \u001b[92m0\u001b[0m \u001b[92m1\u001b[0m \u001b[92m0\u001b[0m \u001b[92m1\u001b[0m \u001b[92m1\u001b[0m \u001b[92m1\u001b[0m \u001b[92m0\u001b[0m \u001b[92m1\u001b[0m \u001b[92m0\u001b[0m \u001b[92m0\u001b[0m \u001b[92m0\u001b[0m \u001b[91m0\u001b[0m 62928\n",
      "\u001b[92m0\u001b[0m \u001b[92m1\u001b[0m \u001b[92m0\u001b[0m \u001b[92m0\u001b[0m \u001b[92m1\u001b[0m \u001b[92m1\u001b[0m \u001b[92m0\u001b[0m \u001b[92m0\u001b[0m \u001b[92m1\u001b[0m \u001b[92m1\u001b[0m \u001b[92m1\u001b[0m \u001b[92m0\u001b[0m \u001b[92m0\u001b[0m \u001b[92m1\u001b[0m \u001b[92m0\u001b[0m \u001b[91m0\u001b[0m 19684\n",
      "\u001b[92m0\u001b[0m \u001b[92m0\u001b[0m \u001b[92m0\u001b[0m \u001b[92m1\u001b[0m \u001b[92m0\u001b[0m \u001b[92m1\u001b[0m \u001b[92m0\u001b[0m \u001b[92m0\u001b[0m \u001b[92m0\u001b[0m \u001b[92m1\u001b[0m \u001b[92m0\u001b[0m \u001b[92m1\u001b[0m \u001b[92m0\u001b[0m \u001b[92m1\u001b[0m \u001b[92m0\u001b[0m \u001b[91m0\u001b[0m 5204\n",
      "\u001b[92m1\u001b[0m \u001b[92m0\u001b[0m \u001b[92m0\u001b[0m \u001b[92m0\u001b[0m \u001b[92m0\u001b[0m \u001b[92m1\u001b[0m \u001b[92m1\u001b[0m \u001b[92m1\u001b[0m \u001b[92m1\u001b[0m \u001b[92m1\u001b[0m \u001b[92m0\u001b[0m \u001b[92m0\u001b[0m \u001b[92m1\u001b[0m \u001b[92m1\u001b[0m \u001b[92m0\u001b[0m \u001b[91m0\u001b[0m 34764\n",
      "\u001b[92m0\u001b[0m \u001b[92m0\u001b[0m \u001b[92m0\u001b[0m \u001b[92m1\u001b[0m \u001b[92m1\u001b[0m \u001b[92m0\u001b[0m \u001b[92m1\u001b[0m \u001b[92m1\u001b[0m \u001b[92m1\u001b[0m \u001b[92m1\u001b[0m \u001b[92m1\u001b[0m \u001b[92m0\u001b[0m \u001b[92m1\u001b[0m \u001b[92m1\u001b[0m \u001b[92m0\u001b[0m \u001b[91m0\u001b[0m 7148\n",
      "\u001b[92m1\u001b[0m \u001b[92m1\u001b[0m \u001b[92m1\u001b[0m \u001b[92m0\u001b[0m \u001b[92m0\u001b[0m \u001b[92m1\u001b[0m \u001b[92m0\u001b[0m \u001b[92m1\u001b[0m \u001b[92m0\u001b[0m \u001b[92m0\u001b[0m \u001b[92m0\u001b[0m \u001b[92m0\u001b[0m \u001b[92m1\u001b[0m \u001b[92m1\u001b[0m \u001b[92m1\u001b[0m \u001b[91m0\u001b[0m 58638\n",
      "\u001b[92m1\u001b[0m \u001b[92m1\u001b[0m \u001b[92m0\u001b[0m \u001b[92m1\u001b[0m \u001b[92m1\u001b[0m \u001b[92m0\u001b[0m \u001b[92m0\u001b[0m \u001b[92m0\u001b[0m \u001b[92m1\u001b[0m \u001b[92m1\u001b[0m \u001b[92m1\u001b[0m \u001b[92m0\u001b[0m \u001b[92m0\u001b[0m \u001b[92m1\u001b[0m \u001b[92m1\u001b[0m \u001b[91m0\u001b[0m 55526\n",
      "\u001b[92m1\u001b[0m \u001b[92m0\u001b[0m \u001b[92m0\u001b[0m \u001b[92m1\u001b[0m \u001b[92m0\u001b[0m \u001b[92m1\u001b[0m \u001b[92m1\u001b[0m \u001b[92m0\u001b[0m \u001b[92m0\u001b[0m \u001b[92m1\u001b[0m \u001b[92m1\u001b[0m \u001b[92m0\u001b[0m \u001b[92m1\u001b[0m \u001b[92m0\u001b[0m \u001b[92m1\u001b[0m \u001b[91m0\u001b[0m 38506\n",
      "\u001b[92m0\u001b[0m \u001b[92m1\u001b[0m \u001b[92m0\u001b[0m \u001b[92m0\u001b[0m \u001b[92m1\u001b[0m \u001b[92m1\u001b[0m \u001b[92m0\u001b[0m \u001b[92m0\u001b[0m \u001b[92m1\u001b[0m \u001b[92m0\u001b[0m \u001b[92m1\u001b[0m \u001b[92m0\u001b[0m \u001b[92m1\u001b[0m \u001b[92m0\u001b[0m \u001b[92m1\u001b[0m \u001b[91m0\u001b[0m 19626\n",
      "\u001b[92m1\u001b[0m \u001b[92m1\u001b[0m \u001b[92m1\u001b[0m \u001b[92m1\u001b[0m \u001b[92m0\u001b[0m \u001b[92m0\u001b[0m \u001b[92m1\u001b[0m \u001b[92m1\u001b[0m \u001b[92m1\u001b[0m \u001b[92m0\u001b[0m \u001b[92m0\u001b[0m \u001b[92m1\u001b[0m \u001b[92m0\u001b[0m \u001b[92m0\u001b[0m \u001b[92m0\u001b[0m \u001b[91m0\u001b[0m 62352\n",
      "\u001b[92m0\u001b[0m \u001b[92m0\u001b[0m \u001b[92m1\u001b[0m \u001b[92m0\u001b[0m \u001b[92m1\u001b[0m \u001b[92m0\u001b[0m \u001b[92m0\u001b[0m \u001b[92m0\u001b[0m \u001b[92m0\u001b[0m \u001b[92m0\u001b[0m \u001b[92m0\u001b[0m \u001b[92m0\u001b[0m \u001b[92m1\u001b[0m \u001b[92m1\u001b[0m \u001b[92m0\u001b[0m \u001b[91m0\u001b[0m 10252\n",
      "\u001b[92m0\u001b[0m \u001b[92m1\u001b[0m \u001b[92m1\u001b[0m \u001b[92m0\u001b[0m \u001b[92m0\u001b[0m \u001b[92m0\u001b[0m \u001b[92m1\u001b[0m \u001b[92m0\u001b[0m \u001b[92m1\u001b[0m \u001b[92m0\u001b[0m \u001b[92m1\u001b[0m \u001b[92m0\u001b[0m \u001b[92m0\u001b[0m \u001b[92m0\u001b[0m \u001b[92m0\u001b[0m \u001b[91m0\u001b[0m 25248\n",
      "\u001b[92m1\u001b[0m \u001b[92m1\u001b[0m \u001b[92m0\u001b[0m \u001b[92m1\u001b[0m \u001b[92m1\u001b[0m \u001b[92m0\u001b[0m \u001b[92m0\u001b[0m \u001b[92m0\u001b[0m \u001b[92m1\u001b[0m \u001b[92m0\u001b[0m \u001b[92m0\u001b[0m \u001b[92m0\u001b[0m \u001b[92m1\u001b[0m \u001b[92m1\u001b[0m \u001b[92m1\u001b[0m \u001b[91m0\u001b[0m 55438\n",
      "\u001b[92m1\u001b[0m \u001b[92m0\u001b[0m \u001b[92m1\u001b[0m \u001b[92m0\u001b[0m \u001b[92m1\u001b[0m \u001b[92m1\u001b[0m \u001b[92m1\u001b[0m \u001b[92m1\u001b[0m \u001b[92m1\u001b[0m \u001b[92m0\u001b[0m \u001b[92m1\u001b[0m \u001b[92m1\u001b[0m \u001b[92m1\u001b[0m \u001b[92m0\u001b[0m \u001b[92m1\u001b[0m \u001b[91m0\u001b[0m 44986\n",
      "\u001b[92m1\u001b[0m \u001b[92m1\u001b[0m \u001b[92m0\u001b[0m \u001b[92m0\u001b[0m \u001b[92m0\u001b[0m \u001b[92m1\u001b[0m \u001b[92m0\u001b[0m \u001b[92m1\u001b[0m \u001b[92m0\u001b[0m \u001b[92m0\u001b[0m \u001b[92m1\u001b[0m \u001b[92m0\u001b[0m \u001b[92m0\u001b[0m \u001b[92m1\u001b[0m \u001b[92m1\u001b[0m \u001b[91m0\u001b[0m 50470\n",
      "\u001b[92m1\u001b[0m \u001b[92m0\u001b[0m \u001b[92m0\u001b[0m \u001b[92m0\u001b[0m \u001b[92m0\u001b[0m \u001b[92m0\u001b[0m \u001b[92m1\u001b[0m \u001b[92m0\u001b[0m \u001b[92m0\u001b[0m \u001b[92m1\u001b[0m \u001b[92m0\u001b[0m \u001b[92m1\u001b[0m \u001b[92m0\u001b[0m \u001b[92m0\u001b[0m \u001b[92m0\u001b[0m \u001b[91m0\u001b[0m 33360\n",
      "\u001b[92m1\u001b[0m \u001b[92m1\u001b[0m \u001b[92m0\u001b[0m \u001b[92m1\u001b[0m \u001b[92m0\u001b[0m \u001b[92m0\u001b[0m \u001b[92m0\u001b[0m \u001b[92m0\u001b[0m \u001b[92m1\u001b[0m \u001b[92m1\u001b[0m \u001b[92m1\u001b[0m \u001b[92m1\u001b[0m \u001b[92m1\u001b[0m \u001b[92m0\u001b[0m \u001b[92m1\u001b[0m \u001b[91m0\u001b[0m 53498\n",
      "\u001b[92m0\u001b[0m \u001b[92m1\u001b[0m \u001b[92m1\u001b[0m \u001b[92m1\u001b[0m \u001b[92m1\u001b[0m \u001b[92m0\u001b[0m \u001b[92m0\u001b[0m \u001b[92m1\u001b[0m \u001b[92m1\u001b[0m \u001b[92m1\u001b[0m \u001b[92m1\u001b[0m \u001b[92m1\u001b[0m \u001b[92m1\u001b[0m \u001b[92m0\u001b[0m \u001b[92m1\u001b[0m \u001b[91m0\u001b[0m 31226\n",
      "\u001b[92m1\u001b[0m \u001b[92m0\u001b[0m \u001b[92m0\u001b[0m \u001b[92m0\u001b[0m \u001b[92m0\u001b[0m \u001b[92m1\u001b[0m \u001b[92m1\u001b[0m \u001b[92m1\u001b[0m \u001b[92m1\u001b[0m \u001b[92m1\u001b[0m \u001b[92m1\u001b[0m \u001b[92m0\u001b[0m \u001b[92m0\u001b[0m \u001b[92m0\u001b[0m \u001b[92m0\u001b[0m \u001b[91m0\u001b[0m 34784\n",
      "\u001b[92m0\u001b[0m \u001b[92m0\u001b[0m \u001b[92m0\u001b[0m \u001b[92m1\u001b[0m \u001b[92m0\u001b[0m \u001b[92m1\u001b[0m \u001b[92m0\u001b[0m \u001b[92m0\u001b[0m \u001b[92m1\u001b[0m \u001b[92m0\u001b[0m \u001b[92m1\u001b[0m \u001b[92m0\u001b[0m \u001b[92m0\u001b[0m \u001b[92m0\u001b[0m \u001b[92m0\u001b[0m \u001b[91m0\u001b[0m 5280\n",
      "\u001b[92m0\u001b[0m \u001b[92m1\u001b[0m \u001b[92m0\u001b[0m \u001b[92m0\u001b[0m \u001b[92m0\u001b[0m \u001b[92m0\u001b[0m \u001b[92m0\u001b[0m \u001b[92m1\u001b[0m \u001b[92m1\u001b[0m \u001b[92m0\u001b[0m \u001b[92m0\u001b[0m \u001b[92m0\u001b[0m \u001b[92m1\u001b[0m \u001b[92m1\u001b[0m \u001b[92m1\u001b[0m \u001b[91m0\u001b[0m 16782\n",
      "\u001b[92m1\u001b[0m \u001b[92m0\u001b[0m \u001b[92m0\u001b[0m \u001b[92m1\u001b[0m \u001b[92m1\u001b[0m \u001b[92m1\u001b[0m \u001b[92m1\u001b[0m \u001b[92m1\u001b[0m \u001b[92m1\u001b[0m \u001b[92m0\u001b[0m \u001b[92m1\u001b[0m \u001b[92m0\u001b[0m \u001b[92m0\u001b[0m \u001b[92m0\u001b[0m \u001b[92m1\u001b[0m \u001b[91m0\u001b[0m 40866\n",
      "\u001b[92m1\u001b[0m \u001b[92m1\u001b[0m \u001b[92m1\u001b[0m \u001b[92m0\u001b[0m \u001b[92m0\u001b[0m \u001b[92m1\u001b[0m \u001b[92m1\u001b[0m \u001b[92m1\u001b[0m \u001b[92m1\u001b[0m \u001b[92m0\u001b[0m \u001b[92m0\u001b[0m \u001b[92m1\u001b[0m \u001b[92m1\u001b[0m \u001b[92m0\u001b[0m \u001b[92m1\u001b[0m \u001b[91m0\u001b[0m 59290\n"
     ]
    }
   ],
   "source": [
    "class colors:\n",
    "    ok = '\\033[92m'\n",
    "    fail = '\\033[91m'\n",
    "    close = '\\033[0m'\n",
    "\n",
    "x_pred_even = np.rint(model.predict(x_val_even)).astype(np.uint8)\n",
    "x_pred_odd = np.rint(model.predict(x_val_odd)).astype(np.uint8)\n",
    "\n",
    "print('EVEN\\n')\n",
    "for y in range(VAL):\n",
    "    for x in range(BITS):\n",
    "        if f(x_val_even)[y, x] == x_pred_even[y, x]:\n",
    "            print(colors.ok + str(x_pred_even[y, x]) + colors.close, end=' ')\n",
    "        else:\n",
    "            print(colors.fail + str(x_pred_even[y, x]) + colors.close, end=' ')\n",
    "    # https://stackoverflow.com/questions/41069825/convert-binary-01-numpy-to-integer-or-binary-string#41069967\n",
    "    print(x_pred_even[y,:].dot(2**np.arange(x_pred_even[y,:].size)[::-1]))\n",
    "\n",
    "print('\\nODD\\n')\n",
    "for y in range(VAL):\n",
    "    for x in range(BITS):\n",
    "        if f(x_val_odd)[y, x] == x_pred_odd[y, x]:\n",
    "            print(colors.ok + str(x_pred_odd[y, x]) + colors.close, end=' ')\n",
    "        else:\n",
    "            print(colors.fail + str(x_pred_odd[y, x]) + colors.close, end=' ')\n",
    "    # https://stackoverflow.com/questions/41069825/convert-binary-01-numpy-to-integer-or-binary-string#41069967\n",
    "    print(x_pred_odd[y,:].dot(2**np.arange(x_pred_odd[y,:].size)[::-1]))"
   ]
  },
  {
   "cell_type": "markdown",
   "metadata": {},
   "source": [
    "## Bibliography\n",
    "\n",
    "- Agre, Philip E. *Computation and Human Experience*. Cambridge University Press, 1997.\n",
    "- Agre, Philip E. \"The Soul Gained and Lost. Artificial Intelligence as a Philosophical Project.\" Stanford Humanities Review 4, no. 2 (1995): 1–19.\n",
    "- Hornik, Kurt, Maxwell Stinchcombe, and Halbert White. \"Multilayer Feedforward Networks Are Universal Approximators.\" Neural Networks 2, no. 5 (1989): 359–66.\n",
    "- Lake, Brenden M., Tomer D. Ullman, Joshua B. Tenenbaum, and Samuel J. Gershman. \"Building Machines That Learn and Think Like People.\" Behavioral and Brain Sciences 40 (2017).\n",
    "- Marcus, Gary. \"Deep Learning: A Critical Appraisal.\" arXiv Preprint arXiv:1801.00631, 2018. https://arxiv.org/abs/1801.00631v1."
   ]
  }
 ],
 "metadata": {
  "kernelspec": {
   "display_name": "Python 3",
   "language": "python",
   "name": "python3"
  },
  "language_info": {
   "codemirror_mode": {
    "name": "ipython",
    "version": 3
   },
   "file_extension": ".py",
   "mimetype": "text/x-python",
   "name": "python",
   "nbconvert_exporter": "python",
   "pygments_lexer": "ipython3",
   "version": "3.6.4"
  }
 },
 "nbformat": 4,
 "nbformat_minor": 2
}
